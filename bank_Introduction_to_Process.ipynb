{
 "cells": [
  {
   "cell_type": "markdown",
   "metadata": {},
   "source": [
    "# Analyzing Bank Customer Data for Better Term Deposit Campaigns\n",
    "Getting to Know Our Customers: Insights for Better Campaigns Marketing\n",
    "\n",
    "<br>By: Tanyaluck Kanai\n",
    "<br>Project Status: On going\n",
    "<br>Date: 20 March 2024\n",
    "<br>Tools: Python, Tableau\n",
    "\n",
    "## Introduction\n",
    "Banks often run marketing campaigns to encourage people to open term deposits, which are savings accounts that earn interest.\n",
    "In this project, we dive into bank's customer data to uncover what drives customers to engage with term deposit products. Our goal is to leverage these insights to refine the company's marketing efforts, customize services, and strengthen customer relationships. By analyzing demographics, financial behaviors, and interaction patterns, we aim to identify actionable strategies that can enhance the bank's offerings and foster growth.\n",
    "\n",
    "## Methodology \n",
    "In this project, we adopt a structured approach to data analysis known as the *Data Analysis Process*. Here's a breakdown of the steps we'll follow:\n",
    "\n",
    "1. Ask : Defining our goals and the questions we aim to answer with our analysis.\n",
    "2. Prepare: Gathering our dataset from Kaggle and ensuring it's ready for analysis.\n",
    "3. Process: Using Python to clean and preprocess our data, making it suitable for detailed examination.\n",
    "4. Analyze: Delving into the data to uncover patterns, trends, and insights that answer our initial questions.\n",
    "5. Share: Visualizing our findings with Tableau, crafting a compelling narrative that conveys the story behind the data.\n",
    "6. Act: Drawing conclusions and recommending actions based on our analysis to inform decision-making and strategy."
   ]
  },
  {
   "cell_type": "markdown",
   "metadata": {},
   "source": [
    "## 1. Ask\n",
    "\n",
    "**Business Objective**\n",
    "\n",
    "The primary aim of this project is to enhance the effectiveness of the bank's marketing strategy for term deposit campaigns by identifying factors that influence customers' decisions to subscribe to term deposits. Understanding these factors will allow the bank to target the right customers more effectively and allocate resources more efficiently.\n",
    "\n",
    "**Questions Driving the Analysis**\n",
    "\n",
    "- Who subscribes?: Who are the customers that subscribe to term deposits (demographics, financial behavior, etc.?\n",
    "- When do they subscribe?: Is there a pattern in terms of timing or customer lifecycle stage that influences subscription rates?\n",
    "- How can we increase subscriptions?: Based on the characteristics of current subscribers, how can the bank tailor its marketing campaigns to convert non-subscribers?"
   ]
  },
  {
   "cell_type": "markdown",
   "metadata": {},
   "source": [
    "## 2. Prepare\n",
    "\n",
    "### About Dataset\n",
    "Our project uses a dataset from Kaggle that contains detailed information on bank customers and their responses to term deposit campaigns. It includes demographic details, financial data, and records of interactions with marketing efforts. This dataset is ideal for analyzing customer behavior and improving our banking services.\n",
    "\n",
    "### Dataset Variables Explanation\n",
    "- age: Customer's age.\n",
    "- job: Customer's occupation.\n",
    "- marital: Customer's marital status.\n",
    "- education: Customer's level of education.\n",
    "- default: Whether the customer has credit in default.\n",
    "- balance: Customer's average yearly balance.\n",
    "- housing: Whether the customer has a housing loan.\n",
    "- loan: Whether the customer has a personal loan.\n",
    "- contact: Type of communication contact with the customer.\n",
    "- day: Last contact day of the month.\n",
    "- month: Last contact month of the year.\n",
    "- duration: Last contact duration in seconds.\n",
    "- campaign: Number of contacts performed during this campaign for the customer.\n",
    "- pdays: Number of days since the customer was last contacted from a previous campaign.\n",
    "- previous: Number of contacts performed before this campaign for the customer.\n",
    "- poutcome: Outcome of the previous marketing campaign.\n",
    "- deposit: Whether the customer subscribed to a term deposit.\n"
   ]
  },
  {
   "cell_type": "markdown",
   "metadata": {},
   "source": [
    "## 3. Process\n",
    "Data processing is to find various inaccuracies, errors, inconsistencies in the data and get rid of them so that our primary business problem is not affected."
   ]
  },
  {
   "cell_type": "code",
   "execution_count": 1,
   "metadata": {},
   "outputs": [],
   "source": [
    "import pandas as pd\n",
    "import numpy as np\n",
    "import matplotlib.pyplot as plt\n",
    "import seaborn as sns\n",
    "df = pd.read_csv('/Users/mewii/Desktop/Data Course/Bank Target Marketing Project/Bank Target Marketing Dataset.csv')"
   ]
  },
  {
   "cell_type": "markdown",
   "metadata": {},
   "source": [
    "### 3.1 Dataset Overview"
   ]
  },
  {
   "cell_type": "code",
   "execution_count": 2,
   "metadata": {},
   "outputs": [
    {
     "name": "stdout",
     "output_type": "stream",
     "text": [
      "Number of columns: 17\n",
      "Number of rows: 56373\n"
     ]
    }
   ],
   "source": [
    "# Size of the DataFrame\n",
    "rows, columns = df.shape\n",
    "print(f\"Number of columns: {columns}\")\n",
    "print(f\"Number of rows: {rows}\")"
   ]
  },
  {
   "cell_type": "code",
   "execution_count": 3,
   "metadata": {},
   "outputs": [
    {
     "name": "stdout",
     "output_type": "stream",
     "text": [
      "   age         job  marital  education default  balance housing loan  contact  \\\n",
      "0   59      admin.  married  secondary      no     2343     yes   no  unknown   \n",
      "1   56      admin.  married  secondary      no       45      no   no  unknown   \n",
      "2   41  technician  married  secondary      no     1270     yes   no  unknown   \n",
      "\n",
      "   day month  duration  campaign  pdays  previous poutcome deposit  \n",
      "0    5   may      1042         1     -1         0  unknown     yes  \n",
      "1    5   may      1467         1     -1         0  unknown     yes  \n",
      "2    5   may      1389         1     -1         0  unknown     yes  \n"
     ]
    }
   ],
   "source": [
    "# Display the first few rows of the DataFrame\n",
    "print(df.head(3))"
   ]
  },
  {
   "cell_type": "code",
   "execution_count": 4,
   "metadata": {},
   "outputs": [
    {
     "name": "stdout",
     "output_type": "stream",
     "text": [
      "<class 'pandas.core.frame.DataFrame'>\n",
      "RangeIndex: 56373 entries, 0 to 56372\n",
      "Data columns (total 17 columns):\n",
      " #   Column     Non-Null Count  Dtype \n",
      "---  ------     --------------  ----- \n",
      " 0   age        56373 non-null  int64 \n",
      " 1   job        56373 non-null  object\n",
      " 2   marital    56373 non-null  object\n",
      " 3   education  56373 non-null  object\n",
      " 4   default    56373 non-null  object\n",
      " 5   balance    56373 non-null  int64 \n",
      " 6   housing    56373 non-null  object\n",
      " 7   loan       56373 non-null  object\n",
      " 8   contact    56373 non-null  object\n",
      " 9   day        56373 non-null  int64 \n",
      " 10  month      56373 non-null  object\n",
      " 11  duration   56373 non-null  int64 \n",
      " 12  campaign   56373 non-null  int64 \n",
      " 13  pdays      56373 non-null  int64 \n",
      " 14  previous   56373 non-null  int64 \n",
      " 15  poutcome   56373 non-null  object\n",
      " 16  deposit    56373 non-null  object\n",
      "dtypes: int64(7), object(10)\n",
      "memory usage: 7.3+ MB\n",
      "None\n"
     ]
    }
   ],
   "source": [
    "# Get a concise summary of the DataFrame\n",
    "print(df.info())"
   ]
  },
  {
   "cell_type": "code",
   "execution_count": 5,
   "metadata": {},
   "outputs": [
    {
     "name": "stdout",
     "output_type": "stream",
     "text": [
      "age          0\n",
      "job          0\n",
      "marital      0\n",
      "education    0\n",
      "default      0\n",
      "balance      0\n",
      "housing      0\n",
      "loan         0\n",
      "contact      0\n",
      "day          0\n",
      "month        0\n",
      "duration     0\n",
      "campaign     0\n",
      "pdays        0\n",
      "previous     0\n",
      "poutcome     0\n",
      "deposit      0\n",
      "dtype: int64\n"
     ]
    }
   ],
   "source": [
    "# Identify missing values\n",
    "print(df.isnull().sum())"
   ]
  },
  {
   "cell_type": "markdown",
   "metadata": {},
   "source": [
    "Our Dataset Overview Summary\n",
    "- Number of columns: 17\n",
    "- Number of rows: 56373\n",
    "- Number of numerical columns: 6\n",
    "- Number of categorical columns: 10\n",
    "- No missing values"
   ]
  },
  {
   "cell_type": "markdown",
   "metadata": {},
   "source": [
    "### 3.2 Check for Duplicates"
   ]
  },
  {
   "cell_type": "markdown",
   "metadata": {},
   "source": [
    "**1. Broad Duplicates Check:** Start by checking for rows where all or nearly all columns are identical, which could indicate a complete duplicate entry."
   ]
  },
  {
   "cell_type": "code",
   "execution_count": 6,
   "metadata": {},
   "outputs": [
    {
     "name": "stdout",
     "output_type": "stream",
     "text": [
      "Number of duplicate rows: 11162\n"
     ]
    }
   ],
   "source": [
    "df.duplicated()\n",
    "print(f\"Number of duplicate rows: {df.duplicated().sum()}\")"
   ]
  },
  {
   "cell_type": "markdown",
   "metadata": {},
   "source": [
    "**2. Conditional Duplicates Check:** Perform a more detailed check by looking at the combinations of 'age', 'job', 'education', 'contact', 'day', 'month', and 'duration'. By assuming that it's highly unlikely for two different interactions to have the exact same details across these specific columns."
   ]
  },
  {
   "cell_type": "code",
   "execution_count": 7,
   "metadata": {},
   "outputs": [
    {
     "name": "stdout",
     "output_type": "stream",
     "text": [
      "Number of conditional duplicate rows: 11162\n"
     ]
    }
   ],
   "source": [
    "subset_columns = ['age', 'job', 'education', 'contact', 'day', 'month', 'duration']\n",
    "conditional_duplicates = df.duplicated().sum()\n",
    "\n",
    "print(f\"Number of conditional duplicate rows: {conditional_duplicates}\")"
   ]
  },
  {
   "cell_type": "markdown",
   "metadata": {},
   "source": [
    "Both of broad and conditional checks has the same number of duplicates. Therefore, we can eliminate duplicate rows."
   ]
  },
  {
   "cell_type": "code",
   "execution_count": 8,
   "metadata": {},
   "outputs": [
    {
     "name": "stdout",
     "output_type": "stream",
     "text": [
      "Size of the dataset after eliminate duplicate rows: (45211, 17)\n"
     ]
    }
   ],
   "source": [
    "# Eliminate duplicate rows\n",
    "\n",
    "df = df.drop_duplicates(keep='first')\n",
    "print(f\"Size of the dataset after eliminate duplicate rows: {df.shape}\")"
   ]
  },
  {
   "cell_type": "markdown",
   "metadata": {},
   "source": [
    "### 3.3 Identify Outliers in Numerical Data\n",
    "\n",
    "Outliers are values that are significantly higher or lower than the rest of the data. Finding and dealing with outliers helps make sure our project's conclusions are solid and trustworthy."
   ]
  },
  {
   "cell_type": "code",
   "execution_count": 9,
   "metadata": {},
   "outputs": [
    {
     "data": {
      "image/png": "[encoded data removed]",
      "text/plain": [
       "<Figure size 600x1300 with 7 Axes>"
      ]
     },
     "metadata": {},
     "output_type": "display_data"
    }
   ],
   "source": [
    "# Identifying outliers by plotting boxplot\n",
    "\n",
    "cols_num = ['age', 'balance', 'day', 'duration', 'campaign', 'pdays', 'previous']\n",
    "\n",
    "fig, ax = plt.subplots(nrows=7, ncols=1, figsize=(6,13))\n",
    "fig.subplots_adjust(hspace=0.8)\n",
    "for i, col in enumerate(cols_num):\n",
    "    sns.boxplot(x=col, data=df, ax=ax[i])\n",
    "    ax[i].set_title(col)"
   ]
  },
  {
   "cell_type": "markdown",
   "metadata": {},
   "source": [
    "From boxplot we can interpret that:\n",
    "- Age: There are customers who are over 90 years old. However, age of customers is not considered as an outlier.\n",
    "- Balance: Several customers have high balances compared to the majority. Still not an outlier.\n",
    "- Day: Distribution of contact days is even, with no outliers.\n",
    "- Duration: There is no data point that stand far apart from the rest.\n",
    "- Campaign: A few customers have been contacted an unusually high number of times. However, these could simply represent higher engagement with certain customers and might be part of an intentional marketing effort?\n",
    "- Pdays: There is no data point that stand far apart from the rest.\n",
    "- Previous: Most customers weren't contacted before, but there is one customer who has been contacted many times. We consider it as an outlier."
   ]
  },
  {
   "cell_type": "markdown",
   "metadata": {},
   "source": [
    "Eliminate one outlier row in 'previous' column."
   ]
  },
  {
   "cell_type": "code",
   "execution_count": 10,
   "metadata": {},
   "outputs": [],
   "source": [
    "# Eliminate the rows with 'previous' > 100\n",
    "df = df[df['previous'] <= 100 ]"
   ]
  },
  {
   "cell_type": "markdown",
   "metadata": {},
   "source": [
    "### 3.4 Data Cleaning in Categorical Data"
   ]
  },
  {
   "cell_type": "code",
   "execution_count": 11,
   "metadata": {},
   "outputs": [
    {
     "data": {
      "text/plain": [
       "Index(['job', 'marital', 'education', 'default', 'housing', 'loan', 'contact',\n",
       "       'month', 'poutcome', 'deposit'],\n",
       "      dtype='object')"
      ]
     },
     "execution_count": 11,
     "metadata": {},
     "output_type": "execute_result"
    }
   ],
   "source": [
    "#Identify categorical columns\n",
    "df.select_dtypes(include=['object']).columns"
   ]
  },
  {
   "cell_type": "markdown",
   "metadata": {},
   "source": [
    "Find sub-catergories in catergorical columns and check if there is any inconsistencies or errors in the data."
   ]
  },
  {
   "cell_type": "code",
   "execution_count": 12,
   "metadata": {},
   "outputs": [
    {
     "name": "stdout",
     "output_type": "stream",
     "text": [
      "Column: job\n",
      "Unique values: ['admin.' 'technician' 'services' 'management' 'retired' 'blue-collar'\n",
      " 'unemployed' 'entrepreneur' 'housemaid' 'unknown' 'self-employed'\n",
      " 'student']\n",
      "Column: marital\n",
      "Unique values: ['married' 'single' 'divorced']\n",
      "Column: education\n",
      "Unique values: ['secondary' 'tertiary' 'primary' 'unknown']\n",
      "Column: default\n",
      "Unique values: ['no' 'yes']\n",
      "Column: housing\n",
      "Unique values: ['yes' 'no']\n",
      "Column: loan\n",
      "Unique values: ['no' 'yes']\n",
      "Column: contact\n",
      "Unique values: ['unknown' 'cellular' 'telephone']\n",
      "Column: month\n",
      "Unique values: ['may' 'jun' 'jul' 'aug' 'oct' 'nov' 'dec' 'jan' 'feb' 'mar' 'apr' 'sep']\n",
      "Column: poutcome\n",
      "Unique values: ['unknown' 'other' 'failure' 'success']\n",
      "Column: deposit\n",
      "Unique values: ['yes' 'no']\n"
     ]
    }
   ],
   "source": [
    "#Find sub-categories across all categorical columns by using loops\n",
    "for col in df.select_dtypes(include=['object']).columns:\n",
    "    print(f\"Column: {col}\")\n",
    "    print(f\"Unique values: {df[col].unique()}\")"
   ]
  },
  {
   "cell_type": "markdown",
   "metadata": {},
   "source": [
    "There is no inconsistencies or errors in the data."
   ]
  },
  {
   "cell_type": "markdown",
   "metadata": {},
   "source": [
    "Size of the DataFrame after data cleaning"
   ]
  },
  {
   "cell_type": "code",
   "execution_count": 13,
   "metadata": {},
   "outputs": [
    {
     "name": "stdout",
     "output_type": "stream",
     "text": [
      "Number of columns: 17\n",
      "Number of rows: 45210\n"
     ]
    }
   ],
   "source": [
    "rows, columns = df.shape\n",
    "print(f\"Number of columns: {columns}\")\n",
    "print(f\"Number of rows: {rows}\")"
   ]
  }
 ],
 "metadata": {
  "kernelspec": {
   "display_name": "Python 3 (ipykernel)",
   "language": "python",
   "name": "python3"
  },
  "language_info": {
   "codemirror_mode": {
    "name": "ipython",
    "version": 3
   },
   "file_extension": ".py",
   "mimetype": "text/x-python",
   "name": "python",
   "nbconvert_exporter": "python",
   "pygments_lexer": "ipython3",
   "version": "3.12.1"
  }
 },
 "nbformat": 4,
 "nbformat_minor": 4
}
